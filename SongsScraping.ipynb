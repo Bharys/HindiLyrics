{
 "cells": [
  {
   "cell_type": "code",
   "execution_count": null,
   "metadata": {},
   "outputs": [],
   "source": [
    "import requests, re\n",
    "import pandas as pd, numpy as np\n",
    "from bs4 import BeautifulSoup"
   ]
  },
  {
   "cell_type": "code",
   "execution_count": null,
   "metadata": {},
   "outputs": [],
   "source": [
    "page = requests.get('http://www.hindilyrics.net/lyrics/lyricists.html')\n",
    "soup = BeautifulSoup(page.content,'html.parser')\n",
    "lyricists = soup.find_all('li')"
   ]
  },
  {
   "cell_type": "code",
   "execution_count": null,
   "metadata": {},
   "outputs": [],
   "source": [
    "len(lyricists)"
   ]
  },
  {
   "cell_type": "code",
   "execution_count": null,
   "metadata": {},
   "outputs": [],
   "source": [
    "THRESHOLD_NUM_SONGS = 400"
   ]
  },
  {
   "cell_type": "code",
   "execution_count": null,
   "metadata": {},
   "outputs": [],
   "source": [
    "required_url=[]\n",
    "for lyricist in lyricists:\n",
    "    url = 'http://www.hindilyrics.net'+lyricist.find('a')['href'].replace('%20',' ')\n",
    "    songs = requests.get(url)\n",
    "    songs = BeautifulSoup(songs.content,'html.parser')\n",
    "    content = re.findall(r'total\\s+(\\d+)\\s+',str(songs))\n",
    "    # Fetch two lyricists who have penned > THRESHOLD_NUM_SONGS     \n",
    "    if len(content) > 0 and int(content[0])>THRESHOLD_NUM_SONGS:\n",
    "        required_url.append(url)\n",
    "    if len(required_url)==2:\n",
    "        break"
   ]
  },
  {
   "cell_type": "code",
   "execution_count": null,
   "metadata": {
    "scrolled": true
   },
   "outputs": [],
   "source": [
    "required_url"
   ]
  },
  {
   "cell_type": "code",
   "execution_count": null,
   "metadata": {},
   "outputs": [],
   "source": [
    "songs_list={}\n",
    "\n",
    "for url in required_url:\n",
    "    all_songs_url = [url]\n",
    "    \n",
    "    # Find all the songs list in the first page\n",
    "    songs = requests.get(url)\n",
    "    lyrics_list = BeautifulSoup(songs.content,'html.parser').find_all('li')\n",
    "    \n",
    "    # Find if additional pages are there\n",
    "    more_pages = lyrics_list[-1].get_text().find('More Pages')\n",
    "    if more_pages != -1:\n",
    "        page_urls = lyrics_list[-1].find_all('a')[1:]\n",
    "    \n",
    "    # Collect the url of all the pages\n",
    "    for songs_url in page_urls:\n",
    "        all_songs_url.append('http://www.hindilyrics.net/lyrics/'+songs_url['href'])\n",
    "    lyricist = re.findall(r'lyricist-([\\w\\s.]+)\\.html',url)[0]\n",
    "    \n",
    "    songs_list[lyricist] = []\n",
    "    i = 0\n",
    "    for song_pages in all_songs_url:\n",
    "        # Fetch all lyrics  page wise\n",
    "        songs = requests.get(song_pages)\n",
    "        lyrics_list = BeautifulSoup(songs.content,'html.parser').find_all('li')\n",
    "        # Lyrics in a single page\n",
    "        for lyrics in lyrics_list:\n",
    "            try:\n",
    "                url_pages = 'http://www.hindilyrics.net' + lyrics.find('a')['href'].replace('%20',' ')\n",
    "                content = requests.get(url_pages)\n",
    "                content = BeautifulSoup(content.content,'html.parser')\n",
    "                text = re.sub(r'\\n|\\r','',content.find('pre').get_text())\n",
    "                songs_list[lyricist].append(text)\n",
    "            except:\n",
    "                # Problem songs\n",
    "                print('error in fetching:',url_pages)"
   ]
  },
  {
   "cell_type": "code",
   "execution_count": null,
   "metadata": {
    "scrolled": true
   },
   "outputs": [],
   "source": [
    "# Save & verify\n",
    "for lyricist,songs in songs_list.items():\n",
    "    with open(lyricist+'.txt', 'w') as f:\n",
    "        for item in songs:\n",
    "            f.write(\"%s\\n\" % item)\n",
    "    data = np.genfromtxt(lyricist+'.txt',delimiter='\\n',dtype=str)\n",
    "    print(lyricist,len(data))"
   ]
  },
  {
   "cell_type": "code",
   "execution_count": null,
   "metadata": {},
   "outputs": [],
   "source": []
  }
 ],
 "metadata": {
  "kernelspec": {
   "display_name": "Python 3",
   "language": "python",
   "name": "python3"
  },
  "language_info": {
   "codemirror_mode": {
    "name": "ipython",
    "version": 3
   },
   "file_extension": ".py",
   "mimetype": "text/x-python",
   "name": "python",
   "nbconvert_exporter": "python",
   "pygments_lexer": "ipython3",
   "version": "3.8.5"
  }
 },
 "nbformat": 4,
 "nbformat_minor": 2
}
